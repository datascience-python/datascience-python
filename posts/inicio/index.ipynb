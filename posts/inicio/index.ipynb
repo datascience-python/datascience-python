{
 "cells": [
  {
   "cell_type": "markdown",
   "metadata": {},
   "source": [
    "Escreva o seu comentário aqui."
   ]
  }
 ],
 "metadata": {
  "kernelspec": {
   "display_name": "Python 3",
   "env": {},
   "language": "python",
   "name": "python3"
  },
  "nikola": {
   "category": "",
   "date": "2017-03-05 01:40:05 UTC-03:00",
   "description": "",
   "link": "",
   "slug": "inicio",
   "tags": "",
   "title": "Inicio",
   "type": "text"
  }
 },
 "nbformat": 4,
 "nbformat_minor": 2
}
